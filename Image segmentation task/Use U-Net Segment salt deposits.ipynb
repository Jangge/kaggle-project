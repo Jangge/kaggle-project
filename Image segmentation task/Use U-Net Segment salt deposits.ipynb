{
 "cells": [
  {
   "cell_type": "markdown",
   "id": "fec689ca",
   "metadata": {},
   "source": [
    "# ----------------------------------------------0.导入包--------------------------------------------------"
   ]
  },
  {
   "cell_type": "code",
   "execution_count": 45,
   "id": "fa5509cf",
   "metadata": {},
   "outputs": [],
   "source": [
    "import os\n",
    "import numpy as np\n",
    "import pandas as pd\n",
    "import cv2\n",
    "from tqdm import tqdm\n",
    "import matplotlib.pyplot as plt\n",
    "from copy import deepcopy\n",
    "\n",
    "import torch\n",
    "import torch.nn as nn\n",
    "import torch.nn.functional as F\n",
    "import torchvision\n",
    "from torch.utils.data import Dataset, DataLoader\n",
    "from torch.autograd import Variable\n",
    "from torch.utils.data.sampler import RandomSampler"
   ]
  },
  {
   "cell_type": "markdown",
   "id": "b9976c6f",
   "metadata": {},
   "source": [
    "# ----------------------------------------------1.超参数集合-------------------------------------------\n",
    "- 用到什么超参数就往这里加"
   ]
  },
  {
   "cell_type": "code",
   "execution_count": 136,
   "id": "06a3d6e1",
   "metadata": {},
   "outputs": [],
   "source": [
    "train_image_dir = 'data/train/images'\n",
    "train_mask_dir = 'data/train/masks'\n",
    "test_image_dir = 'data/test/images'\n",
    "\n",
    "lr = 0.001\n",
    "weight_decay = 0.0001\n",
    "epochs = 3\n",
    "batch_size = 12\n",
    "\n",
    "pad_left = 27\n",
    "pad_right = 27\n",
    "fine_size = 202\n",
    "\n",
    "\n",
    "device = torch.device('cuda' if torch.cuda.is_available() else 'cpu')"
   ]
  },
  {
   "cell_type": "markdown",
   "id": "e0601da9",
   "metadata": {},
   "source": [
    "# ----------------------------------------------2.准备数据集--------------------------------------------"
   ]
  },
  {
   "cell_type": "markdown",
   "id": "489669d7",
   "metadata": {},
   "source": [
    "- 数据集使用Kaggle盐体分割比赛https://link.zhihu.com/?target=https%3A//www.kaggle.com/c/tgs-salt-identification-challenge\n",
    "- 典型的图象分割数据集"
   ]
  },
  {
   "cell_type": "markdown",
   "id": "af1644d2",
   "metadata": {},
   "source": [
    "- 数据集包含输入图像和mask图像：\n",
    "    - 输入图像：是原始采集的图像，正常像素值\n",
    "    - mask图像：与原图像大小一样，但每个像素的数字表示类别，是一个像素级的标签\n",
    "- 数据增广：图像的获取和标注是昂贵的，因此应用数据增广非常有必要"
   ]
  },
  {
   "cell_type": "markdown",
   "id": "7d33d7ce",
   "metadata": {},
   "source": [
    "- 准备好的数据集是什么样子的（也就是模型的输入）：\n",
    "    - 是一个经过处理的图像，图像的大小可能已经因为数据增广和特征工程改变了，但没关系\n",
    "    - 标签，也就是mask图像"
   ]
  },
  {
   "cell_type": "code",
   "execution_count": 5,
   "id": "33f4ac14",
   "metadata": {},
   "outputs": [],
   "source": [
    "\"\"\"数据预处理和特征工程\"\"\"\n",
    "\n",
    "# 首先处理数据集中的深度数据，将深度数据作为一个特征添加到图像中\n",
    "depths = pd.read_csv('data/depths.csv') # 打开深度数据文件，里面包含每个图片的名称和对应的深度数字\n",
    "depths.sort_values('z', inplace=True) # 根据深度数字对表进行原地排序，也就是不返回一个副本\n",
    "depths.drop('z', axis=1, inplace=True) # 删除深度数据\n",
    "depths['fold'] = (list(range(0, 5)) * depths.shape[0])[:depths.shape[0]] # 添加新的fold列，以循环的0-4数字填充，这里是方便数据进行5折交叉验证\n",
    "\n",
    "\n",
    "# 打开训练的集的标注文件\n",
    "train_df = pd.read_csv('data/train.csv') # 打开训练集标注文件\n",
    "train_df = train_df.merge(depths) # 将处理后的深度文件添加到标注文件中,.merge会根据同一个文件名自动添加\n",
    "\n",
    "# 添加一个新的特征：每张图像为唯一像素值数量\n",
    "dist = []\n",
    "for id in train_df.id.values: # 获取图片的名称\n",
    "    img = cv2.imread(f'data/train/images/{id}.png', cv2.IMREAD_GRAYSCALE) # 以灰度图像的形式打开图片，灰度（一个代表黑白程度的值）\n",
    "    dist.append(np.unique(img).shape[0]) # 计算每张图像中唯一像素值的数量，将其作为图片的一个新的特征\n",
    "train_df['unique_pixels'] = dist"
   ]
  },
  {
   "cell_type": "code",
   "execution_count": 6,
   "id": "f4993e5b",
   "metadata": {},
   "outputs": [
    {
     "data": {
      "text/html": [
       "<div>\n",
       "<style scoped>\n",
       "    .dataframe tbody tr th:only-of-type {\n",
       "        vertical-align: middle;\n",
       "    }\n",
       "\n",
       "    .dataframe tbody tr th {\n",
       "        vertical-align: top;\n",
       "    }\n",
       "\n",
       "    .dataframe thead th {\n",
       "        text-align: right;\n",
       "    }\n",
       "</style>\n",
       "<table border=\"1\" class=\"dataframe\">\n",
       "  <thead>\n",
       "    <tr style=\"text-align: right;\">\n",
       "      <th></th>\n",
       "      <th>id</th>\n",
       "      <th>rle_mask</th>\n",
       "      <th>fold</th>\n",
       "      <th>unique_pixels</th>\n",
       "    </tr>\n",
       "  </thead>\n",
       "  <tbody>\n",
       "    <tr>\n",
       "      <th>0</th>\n",
       "      <td>2c45b152f1</td>\n",
       "      <td>99 3 197 6 295 9 395 10 494 12 594 13 694 14 7...</td>\n",
       "      <td>4</td>\n",
       "      <td>188</td>\n",
       "    </tr>\n",
       "    <tr>\n",
       "      <th>1</th>\n",
       "      <td>3cb59a4fdc</td>\n",
       "      <td>1 5656</td>\n",
       "      <td>1</td>\n",
       "      <td>224</td>\n",
       "    </tr>\n",
       "    <tr>\n",
       "      <th>2</th>\n",
       "      <td>e185ab5dc1</td>\n",
       "      <td>4647 2 4748 10 4849 18 4950 25 5051 29 5152 34...</td>\n",
       "      <td>3</td>\n",
       "      <td>207</td>\n",
       "    </tr>\n",
       "    <tr>\n",
       "      <th>3</th>\n",
       "      <td>c78c89577c</td>\n",
       "      <td>101 1</td>\n",
       "      <td>4</td>\n",
       "      <td>183</td>\n",
       "    </tr>\n",
       "    <tr>\n",
       "      <th>4</th>\n",
       "      <td>6306dd3a8e</td>\n",
       "      <td>1 30 102 29 203 29 304 28 405 27 506 27 607 26...</td>\n",
       "      <td>4</td>\n",
       "      <td>224</td>\n",
       "    </tr>\n",
       "  </tbody>\n",
       "</table>\n",
       "</div>"
      ],
      "text/plain": [
       "           id                                           rle_mask  fold  \\\n",
       "0  2c45b152f1  99 3 197 6 295 9 395 10 494 12 594 13 694 14 7...     4   \n",
       "1  3cb59a4fdc                                             1 5656     1   \n",
       "2  e185ab5dc1  4647 2 4748 10 4849 18 4950 25 5051 29 5152 34...     3   \n",
       "3  c78c89577c                                              101 1     4   \n",
       "4  6306dd3a8e  1 30 102 29 203 29 304 28 405 27 506 27 607 26...     4   \n",
       "\n",
       "   unique_pixels  \n",
       "0            188  \n",
       "1            224  \n",
       "2            207  \n",
       "3            183  \n",
       "4            224  "
      ]
     },
     "execution_count": 6,
     "metadata": {},
     "output_type": "execute_result"
    }
   ],
   "source": [
    "\"\"\"添加两个特征维度后的标注数据\"\"\"\n",
    "train_df.head()"
   ]
  },
  {
   "cell_type": "code",
   "execution_count": 26,
   "id": "a046e33b",
   "metadata": {},
   "outputs": [],
   "source": [
    "\"\"\"读取训练图像和掩码图像，处理成np格式备用\"\"\"\n",
    "def trainImageFetch(images_id):\n",
    "    image_train =  np.zeros((images_id.shape[0], 101, 101), dtype=np.float32) # 创建一个和输入图片大小与总数量一样的全零np数组\n",
    "    mask_train = np.zeros((images_id.shape[0], 101, 101), dtype=np.float32)\n",
    "    \n",
    "    for idx, image_id in tqdm(enumerate(images_id), total=images_id.shape[0]):\n",
    "        image_path = os.path.join(train_image_dir, image_id+'.png') # 图片路径\n",
    "        mask_path = os.path.join(train_mask_dir, image_id+'.png') # 掩码路径\n",
    "        \n",
    "        image = cv2.imread(image_path, cv2.IMREAD_GRAYSCALE).astype(np.float32) / 255 # 灰度打开图像，除以255将像素值归一到0-1范围\n",
    "        mask = cv2.imread(mask_path, cv2.IMREAD_GRAYSCALE).astype(np.float32) / 255 # 以灰度打开图像\n",
    "        \n",
    "        image_train[idx] = image  # 将处理好的像素数据按照索引添加到空的np数组中\n",
    "        mask_train[idx] = mask\n",
    "    \n",
    "    return image_train, mask_train\n",
    "# 返回的是np格式的图像和掩码图像数据  "
   ]
  },
  {
   "cell_type": "code",
   "execution_count": 8,
   "id": "922bffbc",
   "metadata": {},
   "outputs": [],
   "source": [
    "\"\"\"读取测试集图像\"\"\"\n",
    "def testImageFetch(test_id):\n",
    "    image_test = np.zeros((len(test_id), 101, 101), dtype=np.float32) # 创建一个和test数据集一样的小的空np数组\n",
    "    \n",
    "    for idx, image_id in tqdm(enumerate(test_id), total=len(test_id)):\n",
    "        image_path = os.path.join(test_image_dir, image_id+'.png')\n",
    "        image = cv2.imread(image_path, cv2.IMREAD_GRAYSCALE).astype(np.float32) / 255 # 以灰度模式打开图像\n",
    "        image_test[idx] = image # 添加到np数组中\n",
    "        \n",
    "    return image_test\n",
    "# 返回处理好的测试集图像"
   ]
  },
  {
   "cell_type": "code",
   "execution_count": 9,
   "id": "b9aac5ed",
   "metadata": {},
   "outputs": [],
   "source": [
    "\"\"\"定义图片缩放操作\"\"\"\n",
    "def do_resize2(image, mask, H, W):\n",
    "    image = cv2.resize(image, dsize=(W, H)) # 缩放图片大小\n",
    "    mask = cv2.resize(mask, dsize=(W, H))\n",
    "    return image, mask"
   ]
  },
  {
   "cell_type": "code",
   "execution_count": 10,
   "id": "d4f1244a",
   "metadata": {},
   "outputs": [],
   "source": [
    "\"\"\"定以图片填充操作\"\"\"\n",
    "def do_center_pad(image, pad_left, pad_right):\n",
    "    return np.pad(image, (pad_left, pad_right), 'edge') # 使用边缘像素对图片进行填充"
   ]
  },
  {
   "cell_type": "code",
   "execution_count": 11,
   "id": "45b9c02d",
   "metadata": {},
   "outputs": [],
   "source": [
    "\"\"\"返回图像和掩码经过填充后的结果\"\"\"\n",
    "def do_center_pad2(image, mask, pad_left, pad_right):\n",
    "    image = do_center_pad(image, pad_left, pad_right)\n",
    "    mask = do_center_pad(mask, pad_left, pad_right)\n",
    "    return image, mask"
   ]
  },
  {
   "cell_type": "code",
   "execution_count": 72,
   "id": "e7d4eb09",
   "metadata": {},
   "outputs": [],
   "source": [
    "\"\"\"自定义数据集\"\"\"\n",
    "class SaltDataset(Dataset):\n",
    "    def __init__(self, image_list, mode, mask_list=None, fine_size=202, pad_left=0, pad_right=0): # 提供的默认信息\n",
    "        self.imagelist = image_list\n",
    "        self.mode = mode\n",
    "        self.masklist = mask_list\n",
    "        self.fine_size = fine_size\n",
    "        self.pad_left = pad_left\n",
    "        self.pad_right = pad_right\n",
    "        \n",
    "    def __len__(self): # 返回数据集的总长度\n",
    "        return len(self.imagelist)\n",
    "        \n",
    "    def __getitem__(self, idx): # 返回根据索引并经过处理的图像和掩码图像，以及验证的测试的处理图像\n",
    "        image = deepcopy(self.imagelist[idx]) # 拷贝图像\n",
    "        \n",
    "        if self.mode == 'train': # 训练模式下的图像处理操作\n",
    "            mask = deepcopy(self.masklist[idx])\n",
    "            label = np.where(mask.sum() == 0, 1.0, 0.0).astype(np.float32) # 生成标签，存在晶体的为1，不存在也就是不需要划分的为0\n",
    "            \n",
    "            if self.fine_size != image.shape[0]: # 判断图片是否需要进行缩放\n",
    "                image, mask = do_resize2(image, mask, self.fine_size, self.fine_size)\n",
    "            \n",
    "            if self.pad_left != 0: # 判断图片是否需要进行填充\n",
    "                image, mask = do_center_pad2(image, mask, self.pad_left, self.pad_right)\n",
    "            \n",
    "            image = image.reshape(1, image.shape[0], image.shape[1]) # 添加维度\n",
    "            mask = mask.reshape(1, mask.shape[0], mask.shape[1])\n",
    "            \n",
    "            return image, mask, label\n",
    "        \n",
    "        elif self.mode == 'val': # 验证模式下的图片处理操作\n",
    "            mask = deepcopy(self.masklist[idx])\n",
    "            \n",
    "            if self.fine_size != image.shape[0]:\n",
    "                image, mask = do_resize2(image, mask, self.fine_size, self.fine_size)\n",
    "            \n",
    "            if self.pad_left != 0:\n",
    "                image = do_center_pad(image, self.pad_left, self.pad_right)\n",
    "            \n",
    "            image = image.reshape(1, image.shape[0], image.shape[1])\n",
    "            mask = mask.reshape(1, mask.shape[0], mask.shape[1])\n",
    "            \n",
    "            return image, mask\n",
    "        \n",
    "        elif self.mode == 'test': # 测试模式下的图片处理操作\n",
    "            if self.fine_size != image.shape[0]:\n",
    "                image = cv2.resize(image, dsize=(self.fine_size, self.fine_size))\n",
    "            \n",
    "            if self.pad_left != 0:\n",
    "                image = do_center_pad(image, self.pad_left, self.pad_right)\n",
    "            \n",
    "            image = image.reshape(1, image.shape[0], image.shape[1])\n",
    "            \n",
    "            return image"
   ]
  },
  {
   "cell_type": "code",
   "execution_count": 58,
   "id": "393add00",
   "metadata": {},
   "outputs": [],
   "source": [
    "\"\"\"实例化数据集并打包\"\"\"\n",
    "all_id = train_df['id'].values # 获取全部图片id\n",
    "\n",
    "# 按照5折来划分数据\n",
    "fold = []\n",
    "for i in range(5):\n",
    "    fold.append(train_df.loc[train_df['fold']==i, 'id'].values) # 返回的fold包含5个numpy数组，也就是5折\n",
    "\n",
    "\n",
    "# 因为是5折交叉验证，所有准备数据集的过程要在定义训练函数的时候进行\n",
    "    \n"
   ]
  },
  {
   "attachments": {
    "%E5%9B%BE%E7%89%87.png": {
     "image/png": "[encoded data removed]"
    }
   },
   "cell_type": "markdown",
   "id": "8bfaf408",
   "metadata": {},
   "source": [
    "# ----------------------------------------------3.定义模型-----------------------------------------------\n",
    "- 定义U-Net模型\n",
    "![%E5%9B%BE%E7%89%87.png](attachment:%E5%9B%BE%E7%89%87.png)"
   ]
  },
  {
   "cell_type": "markdown",
   "id": "72ce2819",
   "metadata": {},
   "source": [
    "- 关于转置卷积层的操作：\n",
    "   - 反卷积操作的基本原理是对输入特征图进行上采样，增加特征图的尺寸。它通过将输入的每个像素之间插入一些空白像素来进行上采样。这个操作可以使特征图的尺寸扩大，通常用于恢复或生成更高分辨率的特征图。\n",
    "    - 填充的具体值对于最终模型的输出可能并不是非常重要，因为通常这些填充值会在之后的网络层中经过激活函数或其他操作而被修改或消除。填充值的目的在于确保卷积和反卷积等操作在特征图的边界处能够正确地进行计算，保持输出尺寸与预期一致。"
   ]
  },
  {
   "cell_type": "code",
   "execution_count": 101,
   "id": "4516b46e",
   "metadata": {},
   "outputs": [],
   "source": [
    "\"\"\"定义上采样和传递信息的操作类\"\"\"\n",
    "class Decoder(nn.Module):\n",
    "    def __init__(self, in_channels, middle_channels, out_channels):\n",
    "        super(Decoder, self).__init__()\n",
    "        self.up = nn.ConvTranspose2d(in_channels, out_channels, kernel_size=2, stride=2) # 转置卷积层，与传统卷积操作相反，填入0像素\n",
    "        self.conv_relu = nn.Sequential(\n",
    "                                nn.Conv2d(middle_channels, out_channels, kernel_size=3, padding=1),\n",
    "                                nn.ReLU(inplace=True))\n",
    "        \n",
    "    def forward(self, x1, x2):\n",
    "        x1 = self.up(x1) # 上采样x1\n",
    "        x1 = torch.cat((x1, x2), dim=1) # 拼接两个矩阵\n",
    "        x1 = self.conv_relu(x1)\n",
    "        return x1\n",
    "        "
   ]
  },
  {
   "cell_type": "code",
   "execution_count": 117,
   "id": "ba207f95",
   "metadata": {},
   "outputs": [],
   "source": [
    "class UNet(nn.Module):\n",
    "    def __init__(self, n_class):\n",
    "        super().__init__()\n",
    "        \n",
    "        self.base_model = torchvision.models.resnet18(weights=torchvision.models.ResNet18_Weights.DEFAULT)\n",
    "        self.base_layers = list(self.base_model.children())\n",
    "        self.layer1 = nn.Sequential(\n",
    "                                    nn.Conv2d(1, 64, kernel_size=(7, 7), stride=(2, 2), padding=(3, 3), bias=False),\n",
    "                                    self.base_layers[1],\n",
    "                                    self.base_layers[2])\n",
    "        self.layer2 = nn.Sequential(*self.base_layers[3:5])\n",
    "        self.layer3 = self.base_layers[5]\n",
    "        self.layer4 = self.base_layers[6]\n",
    "        self.layer5 = self.base_layers[7]\n",
    "        self.decode4 = Decoder(512, 256+256, 256)\n",
    "        self.decode3 = Decoder(256, 256+128, 256)\n",
    "        self.decode2 = Decoder(256, 128+64, 128)\n",
    "        self.decode1 = Decoder(128, 64+64, 64)\n",
    "        self.decode0 = nn.Sequential(\n",
    "                                    nn.Upsample(scale_factor=2, mode='bilinear', align_corners=True),\n",
    "                                    nn.Conv2d(64, 32, kernel_size=3, padding=1, bias=False),\n",
    "                                    nn.Conv2d(32, 64, kernel_size=3, padding=1, bias=False))\n",
    "        self.conv_last = nn.Conv2d(64, n_class, 1)\n",
    "        \n",
    "    def forward(self, input):\n",
    "        e1 = self.layer1(input) # 64, 128, 128\n",
    "        e2 = self.layer2(e1) # 64, 64, 64\n",
    "        e3 = self.layer3(e2) # 128, 32, 32\n",
    "        e4 = self.layer4(e3) # 256, 16, 16\n",
    "        f = self.layer5(e4) # 512, 8, 8\n",
    "        d4 = self.decode4(f, e4) # 256, 16, 16\n",
    "        d3 = self.decode3(d4, e3) # 256, 32, 32\n",
    "        d2 = self.decode2(d3, e2) # 128, 64, 64\n",
    "        d1 = self.decode1(d2, e1) # 64, 128, 128\n",
    "        d0 = self.decode0(d1) # 64, 256, 256\n",
    "        out = self.conv_last(d0) # 1, 256, 256\n",
    "        return out"
   ]
  },
  {
   "cell_type": "code",
   "execution_count": 118,
   "id": "872b6f4c",
   "metadata": {},
   "outputs": [
    {
     "data": {
      "text/plain": [
       "UNet(\n",
       "  (base_model): ResNet(\n",
       "    (conv1): Conv2d(3, 64, kernel_size=(7, 7), stride=(2, 2), padding=(3, 3), bias=False)\n",
       "    (bn1): BatchNorm2d(64, eps=1e-05, momentum=0.1, affine=True, track_running_stats=True)\n",
       "    (relu): ReLU(inplace=True)\n",
       "    (maxpool): MaxPool2d(kernel_size=3, stride=2, padding=1, dilation=1, ceil_mode=False)\n",
       "    (layer1): Sequential(\n",
       "      (0): BasicBlock(\n",
       "        (conv1): Conv2d(64, 64, kernel_size=(3, 3), stride=(1, 1), padding=(1, 1), bias=False)\n",
       "        (bn1): BatchNorm2d(64, eps=1e-05, momentum=0.1, affine=True, track_running_stats=True)\n",
       "        (relu): ReLU(inplace=True)\n",
       "        (conv2): Conv2d(64, 64, kernel_size=(3, 3), stride=(1, 1), padding=(1, 1), bias=False)\n",
       "        (bn2): BatchNorm2d(64, eps=1e-05, momentum=0.1, affine=True, track_running_stats=True)\n",
       "      )\n",
       "      (1): BasicBlock(\n",
       "        (conv1): Conv2d(64, 64, kernel_size=(3, 3), stride=(1, 1), padding=(1, 1), bias=False)\n",
       "        (bn1): BatchNorm2d(64, eps=1e-05, momentum=0.1, affine=True, track_running_stats=True)\n",
       "        (relu): ReLU(inplace=True)\n",
       "        (conv2): Conv2d(64, 64, kernel_size=(3, 3), stride=(1, 1), padding=(1, 1), bias=False)\n",
       "        (bn2): BatchNorm2d(64, eps=1e-05, momentum=0.1, affine=True, track_running_stats=True)\n",
       "      )\n",
       "    )\n",
       "    (layer2): Sequential(\n",
       "      (0): BasicBlock(\n",
       "        (conv1): Conv2d(64, 128, kernel_size=(3, 3), stride=(2, 2), padding=(1, 1), bias=False)\n",
       "        (bn1): BatchNorm2d(128, eps=1e-05, momentum=0.1, affine=True, track_running_stats=True)\n",
       "        (relu): ReLU(inplace=True)\n",
       "        (conv2): Conv2d(128, 128, kernel_size=(3, 3), stride=(1, 1), padding=(1, 1), bias=False)\n",
       "        (bn2): BatchNorm2d(128, eps=1e-05, momentum=0.1, affine=True, track_running_stats=True)\n",
       "        (downsample): Sequential(\n",
       "          (0): Conv2d(64, 128, kernel_size=(1, 1), stride=(2, 2), bias=False)\n",
       "          (1): BatchNorm2d(128, eps=1e-05, momentum=0.1, affine=True, track_running_stats=True)\n",
       "        )\n",
       "      )\n",
       "      (1): BasicBlock(\n",
       "        (conv1): Conv2d(128, 128, kernel_size=(3, 3), stride=(1, 1), padding=(1, 1), bias=False)\n",
       "        (bn1): BatchNorm2d(128, eps=1e-05, momentum=0.1, affine=True, track_running_stats=True)\n",
       "        (relu): ReLU(inplace=True)\n",
       "        (conv2): Conv2d(128, 128, kernel_size=(3, 3), stride=(1, 1), padding=(1, 1), bias=False)\n",
       "        (bn2): BatchNorm2d(128, eps=1e-05, momentum=0.1, affine=True, track_running_stats=True)\n",
       "      )\n",
       "    )\n",
       "    (layer3): Sequential(\n",
       "      (0): BasicBlock(\n",
       "        (conv1): Conv2d(128, 256, kernel_size=(3, 3), stride=(2, 2), padding=(1, 1), bias=False)\n",
       "        (bn1): BatchNorm2d(256, eps=1e-05, momentum=0.1, affine=True, track_running_stats=True)\n",
       "        (relu): ReLU(inplace=True)\n",
       "        (conv2): Conv2d(256, 256, kernel_size=(3, 3), stride=(1, 1), padding=(1, 1), bias=False)\n",
       "        (bn2): BatchNorm2d(256, eps=1e-05, momentum=0.1, affine=True, track_running_stats=True)\n",
       "        (downsample): Sequential(\n",
       "          (0): Conv2d(128, 256, kernel_size=(1, 1), stride=(2, 2), bias=False)\n",
       "          (1): BatchNorm2d(256, eps=1e-05, momentum=0.1, affine=True, track_running_stats=True)\n",
       "        )\n",
       "      )\n",
       "      (1): BasicBlock(\n",
       "        (conv1): Conv2d(256, 256, kernel_size=(3, 3), stride=(1, 1), padding=(1, 1), bias=False)\n",
       "        (bn1): BatchNorm2d(256, eps=1e-05, momentum=0.1, affine=True, track_running_stats=True)\n",
       "        (relu): ReLU(inplace=True)\n",
       "        (conv2): Conv2d(256, 256, kernel_size=(3, 3), stride=(1, 1), padding=(1, 1), bias=False)\n",
       "        (bn2): BatchNorm2d(256, eps=1e-05, momentum=0.1, affine=True, track_running_stats=True)\n",
       "      )\n",
       "    )\n",
       "    (layer4): Sequential(\n",
       "      (0): BasicBlock(\n",
       "        (conv1): Conv2d(256, 512, kernel_size=(3, 3), stride=(2, 2), padding=(1, 1), bias=False)\n",
       "        (bn1): BatchNorm2d(512, eps=1e-05, momentum=0.1, affine=True, track_running_stats=True)\n",
       "        (relu): ReLU(inplace=True)\n",
       "        (conv2): Conv2d(512, 512, kernel_size=(3, 3), stride=(1, 1), padding=(1, 1), bias=False)\n",
       "        (bn2): BatchNorm2d(512, eps=1e-05, momentum=0.1, affine=True, track_running_stats=True)\n",
       "        (downsample): Sequential(\n",
       "          (0): Conv2d(256, 512, kernel_size=(1, 1), stride=(2, 2), bias=False)\n",
       "          (1): BatchNorm2d(512, eps=1e-05, momentum=0.1, affine=True, track_running_stats=True)\n",
       "        )\n",
       "      )\n",
       "      (1): BasicBlock(\n",
       "        (conv1): Conv2d(512, 512, kernel_size=(3, 3), stride=(1, 1), padding=(1, 1), bias=False)\n",
       "        (bn1): BatchNorm2d(512, eps=1e-05, momentum=0.1, affine=True, track_running_stats=True)\n",
       "        (relu): ReLU(inplace=True)\n",
       "        (conv2): Conv2d(512, 512, kernel_size=(3, 3), stride=(1, 1), padding=(1, 1), bias=False)\n",
       "        (bn2): BatchNorm2d(512, eps=1e-05, momentum=0.1, affine=True, track_running_stats=True)\n",
       "      )\n",
       "    )\n",
       "    (avgpool): AdaptiveAvgPool2d(output_size=(1, 1))\n",
       "    (fc): Linear(in_features=512, out_features=1000, bias=True)\n",
       "  )\n",
       "  (layer1): Sequential(\n",
       "    (0): Conv2d(1, 64, kernel_size=(7, 7), stride=(2, 2), padding=(3, 3), bias=False)\n",
       "    (1): BatchNorm2d(64, eps=1e-05, momentum=0.1, affine=True, track_running_stats=True)\n",
       "    (2): ReLU(inplace=True)\n",
       "  )\n",
       "  (layer2): Sequential(\n",
       "    (0): MaxPool2d(kernel_size=3, stride=2, padding=1, dilation=1, ceil_mode=False)\n",
       "    (1): Sequential(\n",
       "      (0): BasicBlock(\n",
       "        (conv1): Conv2d(64, 64, kernel_size=(3, 3), stride=(1, 1), padding=(1, 1), bias=False)\n",
       "        (bn1): BatchNorm2d(64, eps=1e-05, momentum=0.1, affine=True, track_running_stats=True)\n",
       "        (relu): ReLU(inplace=True)\n",
       "        (conv2): Conv2d(64, 64, kernel_size=(3, 3), stride=(1, 1), padding=(1, 1), bias=False)\n",
       "        (bn2): BatchNorm2d(64, eps=1e-05, momentum=0.1, affine=True, track_running_stats=True)\n",
       "      )\n",
       "      (1): BasicBlock(\n",
       "        (conv1): Conv2d(64, 64, kernel_size=(3, 3), stride=(1, 1), padding=(1, 1), bias=False)\n",
       "        (bn1): BatchNorm2d(64, eps=1e-05, momentum=0.1, affine=True, track_running_stats=True)\n",
       "        (relu): ReLU(inplace=True)\n",
       "        (conv2): Conv2d(64, 64, kernel_size=(3, 3), stride=(1, 1), padding=(1, 1), bias=False)\n",
       "        (bn2): BatchNorm2d(64, eps=1e-05, momentum=0.1, affine=True, track_running_stats=True)\n",
       "      )\n",
       "    )\n",
       "  )\n",
       "  (layer3): Sequential(\n",
       "    (0): BasicBlock(\n",
       "      (conv1): Conv2d(64, 128, kernel_size=(3, 3), stride=(2, 2), padding=(1, 1), bias=False)\n",
       "      (bn1): BatchNorm2d(128, eps=1e-05, momentum=0.1, affine=True, track_running_stats=True)\n",
       "      (relu): ReLU(inplace=True)\n",
       "      (conv2): Conv2d(128, 128, kernel_size=(3, 3), stride=(1, 1), padding=(1, 1), bias=False)\n",
       "      (bn2): BatchNorm2d(128, eps=1e-05, momentum=0.1, affine=True, track_running_stats=True)\n",
       "      (downsample): Sequential(\n",
       "        (0): Conv2d(64, 128, kernel_size=(1, 1), stride=(2, 2), bias=False)\n",
       "        (1): BatchNorm2d(128, eps=1e-05, momentum=0.1, affine=True, track_running_stats=True)\n",
       "      )\n",
       "    )\n",
       "    (1): BasicBlock(\n",
       "      (conv1): Conv2d(128, 128, kernel_size=(3, 3), stride=(1, 1), padding=(1, 1), bias=False)\n",
       "      (bn1): BatchNorm2d(128, eps=1e-05, momentum=0.1, affine=True, track_running_stats=True)\n",
       "      (relu): ReLU(inplace=True)\n",
       "      (conv2): Conv2d(128, 128, kernel_size=(3, 3), stride=(1, 1), padding=(1, 1), bias=False)\n",
       "      (bn2): BatchNorm2d(128, eps=1e-05, momentum=0.1, affine=True, track_running_stats=True)\n",
       "    )\n",
       "  )\n",
       "  (layer4): Sequential(\n",
       "    (0): BasicBlock(\n",
       "      (conv1): Conv2d(128, 256, kernel_size=(3, 3), stride=(2, 2), padding=(1, 1), bias=False)\n",
       "      (bn1): BatchNorm2d(256, eps=1e-05, momentum=0.1, affine=True, track_running_stats=True)\n",
       "      (relu): ReLU(inplace=True)\n",
       "      (conv2): Conv2d(256, 256, kernel_size=(3, 3), stride=(1, 1), padding=(1, 1), bias=False)\n",
       "      (bn2): BatchNorm2d(256, eps=1e-05, momentum=0.1, affine=True, track_running_stats=True)\n",
       "      (downsample): Sequential(\n",
       "        (0): Conv2d(128, 256, kernel_size=(1, 1), stride=(2, 2), bias=False)\n",
       "        (1): BatchNorm2d(256, eps=1e-05, momentum=0.1, affine=True, track_running_stats=True)\n",
       "      )\n",
       "    )\n",
       "    (1): BasicBlock(\n",
       "      (conv1): Conv2d(256, 256, kernel_size=(3, 3), stride=(1, 1), padding=(1, 1), bias=False)\n",
       "      (bn1): BatchNorm2d(256, eps=1e-05, momentum=0.1, affine=True, track_running_stats=True)\n",
       "      (relu): ReLU(inplace=True)\n",
       "      (conv2): Conv2d(256, 256, kernel_size=(3, 3), stride=(1, 1), padding=(1, 1), bias=False)\n",
       "      (bn2): BatchNorm2d(256, eps=1e-05, momentum=0.1, affine=True, track_running_stats=True)\n",
       "    )\n",
       "  )\n",
       "  (layer5): Sequential(\n",
       "    (0): BasicBlock(\n",
       "      (conv1): Conv2d(256, 512, kernel_size=(3, 3), stride=(2, 2), padding=(1, 1), bias=False)\n",
       "      (bn1): BatchNorm2d(512, eps=1e-05, momentum=0.1, affine=True, track_running_stats=True)\n",
       "      (relu): ReLU(inplace=True)\n",
       "      (conv2): Conv2d(512, 512, kernel_size=(3, 3), stride=(1, 1), padding=(1, 1), bias=False)\n",
       "      (bn2): BatchNorm2d(512, eps=1e-05, momentum=0.1, affine=True, track_running_stats=True)\n",
       "      (downsample): Sequential(\n",
       "        (0): Conv2d(256, 512, kernel_size=(1, 1), stride=(2, 2), bias=False)\n",
       "        (1): BatchNorm2d(512, eps=1e-05, momentum=0.1, affine=True, track_running_stats=True)\n",
       "      )\n",
       "    )\n",
       "    (1): BasicBlock(\n",
       "      (conv1): Conv2d(512, 512, kernel_size=(3, 3), stride=(1, 1), padding=(1, 1), bias=False)\n",
       "      (bn1): BatchNorm2d(512, eps=1e-05, momentum=0.1, affine=True, track_running_stats=True)\n",
       "      (relu): ReLU(inplace=True)\n",
       "      (conv2): Conv2d(512, 512, kernel_size=(3, 3), stride=(1, 1), padding=(1, 1), bias=False)\n",
       "      (bn2): BatchNorm2d(512, eps=1e-05, momentum=0.1, affine=True, track_running_stats=True)\n",
       "    )\n",
       "  )\n",
       "  (decode4): Decoder(\n",
       "    (up): ConvTranspose2d(512, 256, kernel_size=(2, 2), stride=(2, 2))\n",
       "    (conv_relu): Sequential(\n",
       "      (0): Conv2d(512, 256, kernel_size=(3, 3), stride=(1, 1), padding=(1, 1))\n",
       "      (1): ReLU(inplace=True)\n",
       "    )\n",
       "  )\n",
       "  (decode3): Decoder(\n",
       "    (up): ConvTranspose2d(256, 256, kernel_size=(2, 2), stride=(2, 2))\n",
       "    (conv_relu): Sequential(\n",
       "      (0): Conv2d(384, 256, kernel_size=(3, 3), stride=(1, 1), padding=(1, 1))\n",
       "      (1): ReLU(inplace=True)\n",
       "    )\n",
       "  )\n",
       "  (decode2): Decoder(\n",
       "    (up): ConvTranspose2d(256, 128, kernel_size=(2, 2), stride=(2, 2))\n",
       "    (conv_relu): Sequential(\n",
       "      (0): Conv2d(192, 128, kernel_size=(3, 3), stride=(1, 1), padding=(1, 1))\n",
       "      (1): ReLU(inplace=True)\n",
       "    )\n",
       "  )\n",
       "  (decode1): Decoder(\n",
       "    (up): ConvTranspose2d(128, 64, kernel_size=(2, 2), stride=(2, 2))\n",
       "    (conv_relu): Sequential(\n",
       "      (0): Conv2d(128, 64, kernel_size=(3, 3), stride=(1, 1), padding=(1, 1))\n",
       "      (1): ReLU(inplace=True)\n",
       "    )\n",
       "  )\n",
       "  (decode0): Sequential(\n",
       "    (0): Upsample(scale_factor=2.0, mode='bilinear')\n",
       "    (1): Conv2d(64, 32, kernel_size=(3, 3), stride=(1, 1), padding=(1, 1), bias=False)\n",
       "    (2): Conv2d(32, 64, kernel_size=(3, 3), stride=(1, 1), padding=(1, 1), bias=False)\n",
       "  )\n",
       "  (conv_last): Conv2d(64, 1, kernel_size=(1, 1), stride=(1, 1))\n",
       ")"
      ]
     },
     "execution_count": 118,
     "metadata": {},
     "output_type": "execute_result"
    }
   ],
   "source": [
    "\"\"\"实例化模型\"\"\"\n",
    "salt = UNet(1)\n",
    "salt.to(device)"
   ]
  },
  {
   "cell_type": "markdown",
   "id": "d7560f48",
   "metadata": {},
   "source": [
    "# ----------------------------------------------4.定义训练函数-----------------------------------------"
   ]
  },
  {
   "cell_type": "code",
   "execution_count": 122,
   "id": "db4261e9",
   "metadata": {},
   "outputs": [],
   "source": [
    "\"\"\"定义训练方法\"\"\"\n",
    "def train(train_loader, model):\n",
    "    running_loss = 0.0\n",
    "    data_size = len(train_data)\n",
    "    # 设置参数优化器\n",
    "    optimizer = torch.optim.Adam(model.parameters(), lr=lr, weight_decay=weight_decay)\n",
    "    \n",
    "    model.train() # 进入训练模式\n",
    "    \n",
    "    for inputs, masks, labels in train_loader:\n",
    "        inputs, masks, labels = inputs.to(device), masks.to(device), labels.to(device) # 将数据传入到GPU中\n",
    "        optimizer.zero_grad() # 清零梯度\n",
    "        \n",
    "        # 前向传播\n",
    "        logit = model(inputs)\n",
    "\n",
    "        \n",
    "        # 计算损失和梯度\n",
    "        loss = nn.BCEWithLogitsLoss()(logit.squeeze(1), masks.squeeze(1))\n",
    "        loss.backward()\n",
    "        \n",
    "        # 更新模型参数\n",
    "        optimizer.step()\n",
    "        \n",
    "        running_loss += loss.item() * inputs.size(0)\n",
    "    \n",
    "    # 计算每个epoch下的损失\n",
    "    epoch_loss = running_loss / data_size\n",
    "    return epoch_loss"
   ]
  },
  {
   "cell_type": "code",
   "execution_count": 130,
   "id": "87ea30db",
   "metadata": {},
   "outputs": [],
   "source": [
    "\"\"\"定义测试函数\"\"\"\n",
    "def do_kaggle_metric(predict,truth, threshold=0.5):\n",
    "\n",
    "    N = len(predict)\n",
    "    predict = predict.reshape(N,-1)\n",
    "    truth   = truth.reshape(N,-1)\n",
    "\n",
    "    predict = predict>threshold\n",
    "    truth   = truth>0.5\n",
    "    intersection = truth & predict\n",
    "    union        = truth | predict\n",
    "    iou = intersection.sum(1)/(union.sum(1)+1e-8)\n",
    "\n",
    "    #-------------------------------------------\n",
    "    result = []\n",
    "    precision = []\n",
    "    is_empty_truth   = (truth.sum(1)==0)\n",
    "    is_empty_predict = (predict.sum(1)==0)\n",
    "\n",
    "    threshold = np.array([0.50, 0.55, 0.60, 0.65, 0.70, 0.75, 0.80, 0.85, 0.90, 0.95])\n",
    "    for t in threshold:\n",
    "        p = iou>=t\n",
    "\n",
    "        tp  = (~is_empty_truth)  & (~is_empty_predict) & (iou> t)\n",
    "        fp  = (~is_empty_truth)  & (~is_empty_predict) & (iou<=t)\n",
    "        fn  = (~is_empty_truth)  & ( is_empty_predict)\n",
    "        fp_empty = ( is_empty_truth)  & (~is_empty_predict)\n",
    "        tn_empty = ( is_empty_truth)  & ( is_empty_predict)\n",
    "\n",
    "        p = (tp + tn_empty) / (tp + tn_empty + fp + fp_empty + fn)\n",
    "\n",
    "        result.append( np.column_stack((tp,fp,fn,tn_empty,fp_empty)) )\n",
    "        precision.append(p)\n",
    "\n",
    "    result = np.array(result).transpose(1,2,0)\n",
    "    precision = np.column_stack(precision)\n",
    "    precision = precision.mean(1)\n",
    "\n",
    "    return precision, result, threshold"
   ]
  },
  {
   "cell_type": "code",
   "execution_count": 128,
   "id": "2c10b5dd",
   "metadata": {},
   "outputs": [],
   "source": [
    "\"\"\"定义测试方法\"\"\"\n",
    "def test(test_loader, model):\n",
    "    running_loss = 0.0\n",
    "    data_size = len(test_loader)\n",
    "    predicts = []\n",
    "    truths = []\n",
    "    \n",
    "    model.eval() # 进入预测模式\n",
    "    \n",
    "    for inputs, masks in test_loader:\n",
    "        inputs, masks = inputs.to(device), masks.to(device)\n",
    "        \n",
    "        outputs = model(inputs)\n",
    "        outputs = outputs[:, :, pad_left:pad_left + fine_size, pad_left:pad_left +fine_size].contiguous() # 对模型输出进行裁剪\n",
    "        loss = nn.BCEWithLogitsLoss()(outputs.squeeze(1), masks.squeeze(1))\n",
    "        \n",
    "        predicts.append(torch.sigmoid(outputs).detach().cpu().numpy()) # 将预测结果转化为0-1的概率和numpy格式，也就是预测的图像\n",
    "        truths.append(masks.detach().cpu().numpy()) # 真实的掩码图像\n",
    "        running_loss += loss.item() * inputs.size(0) # 保存批量损失\n",
    "        \n",
    "    predicts = np.concatenate(predicts).squeeze() # 将预测结果连接起来，形成整个测试集的预测结果\n",
    "    truths = np.concatenate(truths).squeeze()\n",
    "    precision, _, _ = do_kaggle_metric(predicts, truths, 0.5)# 调用测试函数，返回结果预测结果精度\n",
    "    precision = precision.mean() # 返回均值\n",
    "    epoch_loss = running_loss / data_size # 计算epoch损失\n",
    "    return epoch_loss, precision\n",
    "    "
   ]
  },
  {
   "cell_type": "code",
   "execution_count": 145,
   "id": "f8e26441",
   "metadata": {},
   "outputs": [],
   "source": [
    "\"\"\"将二值图像（numpy数组）编码为Run-Length编码（RLE）一种简单无损数据压缩方法，特别适合大量连续重复的数据\"\"\"\n",
    "def rle_encode(im):\n",
    "    pixels = im.flatten(order = 'F')\n",
    "    pixels = np.concatenate([[0], pixels, [0]])\n",
    "    runs = np.where(pixels[1:] != pixels[:-1])[0] + 1\n",
    "    runs[1::2] -= runs[::2]\n",
    "    return ' '.join(str(x) for x in runs)"
   ]
  },
  {
   "cell_type": "code",
   "execution_count": 132,
   "id": "2f98288e",
   "metadata": {},
   "outputs": [
    {
     "name": "stdout",
     "output_type": "stream",
     "text": [
      "saveing model with acc 0.635\n",
      "epoch: 1 train_loss: 0.257 val_loss: 2.607 val_accuracy: 0.635\n"
     ]
    }
   ],
   "source": [
    "num_snapshot = 0\n",
    "best_acc = 0\n",
    "    \n",
    "for epoch in range(epochs):\n",
    "    train_loss = train(train_loader, salt) # 调用训练模型，这一步已经训练了\n",
    "    val_loss, accuracy = test(val_loader, salt) # 调用函数在验证集上验证精度\n",
    "\n",
    "    # 保存最优模型\n",
    "    if accuracy > best_acc:\n",
    "        best_acc = accuracy\n",
    "        torch.save(salt.state_dict(), 'data/model')\n",
    "        print('saveing model with acc {:.3f}'.format(best_acc))\n",
    "\n",
    "    print('epoch: {} train_loss: {:.3f} val_loss: {:.3f} val_accuracy: {:.3f}'.format(epoch + 1, train_loss, val_loss, accuracy))"
   ]
  },
  {
   "cell_type": "markdown",
   "id": "f67c1996",
   "metadata": {},
   "source": [
    "# ----------------------------------------------5.开始训练-----------------------------------------------"
   ]
  },
  {
   "cell_type": "code",
   "execution_count": 137,
   "id": "956abc58",
   "metadata": {},
   "outputs": [
    {
     "name": "stderr",
     "output_type": "stream",
     "text": [
      "100%|████████████████████████████████████████████████████████████████████████████| 3190/3190 [00:01<00:00, 2675.01it/s]\n",
      "100%|██████████████████████████████████████████████████████████████████████████████| 810/810 [00:00<00:00, 2673.27it/s]\n"
     ]
    },
    {
     "name": "stdout",
     "output_type": "stream",
     "text": [
      "saveing model with acc 0.658\n",
      "epoch: 1 train_loss: 0.235 val_loss: 2.494 val_accuracy: 0.658\n",
      "saveing model with acc 0.668\n",
      "epoch: 2 train_loss: 0.226 val_loss: 2.339 val_accuracy: 0.668\n",
      "epoch: 3 train_loss: 0.211 val_loss: 3.309 val_accuracy: 0.606\n"
     ]
    },
    {
     "name": "stderr",
     "output_type": "stream",
     "text": [
      "100%|████████████████████████████████████████████████████████████████████████████| 3196/3196 [00:01<00:00, 2891.62it/s]\n",
      "100%|██████████████████████████████████████████████████████████████████████████████| 804/804 [00:00<00:00, 2744.02it/s]\n"
     ]
    },
    {
     "name": "stdout",
     "output_type": "stream",
     "text": [
      "saveing model with acc 0.661\n",
      "epoch: 1 train_loss: 0.212 val_loss: 2.377 val_accuracy: 0.661\n",
      "saveing model with acc 0.673\n",
      "epoch: 2 train_loss: 0.213 val_loss: 2.115 val_accuracy: 0.673\n",
      "saveing model with acc 0.689\n",
      "epoch: 3 train_loss: 0.205 val_loss: 2.413 val_accuracy: 0.689\n"
     ]
    },
    {
     "name": "stderr",
     "output_type": "stream",
     "text": [
      "100%|████████████████████████████████████████████████████████████████████████████| 3189/3189 [00:01<00:00, 2711.64it/s]\n",
      "100%|██████████████████████████████████████████████████████████████████████████████| 811/811 [00:00<00:00, 2739.04it/s]\n"
     ]
    },
    {
     "name": "stdout",
     "output_type": "stream",
     "text": [
      "saveing model with acc 0.662\n",
      "epoch: 1 train_loss: 0.201 val_loss: 2.097 val_accuracy: 0.662\n",
      "saveing model with acc 0.679\n",
      "epoch: 2 train_loss: 0.189 val_loss: 2.967 val_accuracy: 0.679\n",
      "saveing model with acc 0.709\n",
      "epoch: 3 train_loss: 0.188 val_loss: 2.458 val_accuracy: 0.709\n"
     ]
    },
    {
     "name": "stderr",
     "output_type": "stream",
     "text": [
      "100%|████████████████████████████████████████████████████████████████████████████| 3210/3210 [00:01<00:00, 2728.05it/s]\n",
      "100%|██████████████████████████████████████████████████████████████████████████████| 790/790 [00:00<00:00, 2724.14it/s]\n"
     ]
    },
    {
     "name": "stdout",
     "output_type": "stream",
     "text": [
      "saveing model with acc 0.686\n",
      "epoch: 1 train_loss: 0.191 val_loss: 1.600 val_accuracy: 0.686\n",
      "epoch: 2 train_loss: 0.191 val_loss: 2.267 val_accuracy: 0.640\n",
      "epoch: 3 train_loss: 0.191 val_loss: 2.170 val_accuracy: 0.679\n"
     ]
    },
    {
     "name": "stderr",
     "output_type": "stream",
     "text": [
      "100%|████████████████████████████████████████████████████████████████████████████| 3215/3215 [00:01<00:00, 2842.15it/s]\n",
      "100%|██████████████████████████████████████████████████████████████████████████████| 785/785 [00:00<00:00, 2918.21it/s]\n"
     ]
    },
    {
     "name": "stdout",
     "output_type": "stream",
     "text": [
      "saveing model with acc 0.692\n",
      "epoch: 1 train_loss: 0.173 val_loss: 1.881 val_accuracy: 0.692\n",
      "epoch: 2 train_loss: 0.168 val_loss: 2.452 val_accuracy: 0.653\n",
      "epoch: 3 train_loss: 0.166 val_loss: 1.991 val_accuracy: 0.690\n"
     ]
    }
   ],
   "source": [
    "for idx in range(5):   # 因为是5折所以这里设定是5\n",
    "    \n",
    "\n",
    "    \n",
    "    # 准备数据集\n",
    "    train_id = np.setdiff1d(all_id, fold[idx]) # 获取除了当前idx外的所有id\n",
    "    val_id = fold[idx]\n",
    "    X_train, y_train = trainImageFetch(train_id) # 处理训练图像和掩码图像\n",
    "    X_val, y_val = trainImageFetch(val_id) # 处理验证集图像\n",
    "    train_data = SaltDataset(X_train, 'train', y_train, pad_left=27, pad_right=27) # 实例化自定义的数据集\n",
    "    val_data = SaltDataset(X_val, 'val', y_val, pad_left=27, pad_right=27)\n",
    "    train_loader = DataLoader(train_data, shuffle=True, batch_size=batch_size) # 打包训练用的数据集\n",
    "    val_loader = DataLoader(val_data, shuffle=False, batch_size=batch_size)\n",
    "    \n",
    "    best_acc = 0\n",
    "    \n",
    "    for epoch in range(epochs):\n",
    "        train_loss = train(train_loader, salt) # 调用训练模型，这一步已经训练了\n",
    "        val_loss, accuracy = test(val_loader, salt) # 调用函数在验证集上验证精度\n",
    "        \n",
    "        # 保存最优模型\n",
    "        if accuracy > best_acc:\n",
    "            best_acc = accuracy\n",
    "            torch.save(salt.state_dict(), 'data/model')\n",
    "            print('saveing model with acc {:.3f}'.format(best_acc))\n",
    "        \n",
    "        print('epoch: {} train_loss: {:.3f} val_loss: {:.3f} val_accuracy: {:.3f}'.format(epoch + 1, train_loss, val_loss, accuracy))\n",
    "        \n",
    "    \n",
    "    \n",
    "    "
   ]
  },
  {
   "cell_type": "markdown",
   "id": "7c807fda",
   "metadata": {},
   "source": [
    "# ----------------------------------------------6.测试----------------------------------------------------"
   ]
  },
  {
   "cell_type": "code",
   "execution_count": 141,
   "id": "f34f5cb7",
   "metadata": {},
   "outputs": [
    {
     "name": "stderr",
     "output_type": "stream",
     "text": [
      "100%|███████████████████████████████████████████████████████████████████████████| 18000/18000 [00:57<00:00, 310.98it/s]\n"
     ]
    }
   ],
   "source": [
    "\"\"\"使用测试集生成预测结果并\"\"\"\n",
    "test_id = [x[:-4] for x in os.listdir(test_image_dir) if x[-4:] == '.png'] # 加载测试集图片id\n",
    "image_test = testImageFetch(test_id) # 加载测试集图片\n",
    "overall_pred_101 = np.zeros((len(test_id), 101, 101), dtype=np.float32)"
   ]
  },
  {
   "cell_type": "code",
   "execution_count": 143,
   "id": "5a200232",
   "metadata": {},
   "outputs": [
    {
     "name": "stdout",
     "output_type": "stream",
     "text": [
      "predicting Snapshot 1\n"
     ]
    },
    {
     "name": "stderr",
     "output_type": "stream",
     "text": [
      "100%|██████████████████████████████████████████████████████████████████████████████| 1500/1500 [00:28<00:00, 52.65it/s]\n"
     ]
    },
    {
     "name": "stdout",
     "output_type": "stream",
     "text": [
      "predicting Snapshot 2\n"
     ]
    },
    {
     "name": "stderr",
     "output_type": "stream",
     "text": [
      "100%|██████████████████████████████████████████████████████████████████████████████| 1500/1500 [00:27<00:00, 54.37it/s]\n"
     ]
    },
    {
     "name": "stdout",
     "output_type": "stream",
     "text": [
      "predicting Snapshot 3\n"
     ]
    },
    {
     "name": "stderr",
     "output_type": "stream",
     "text": [
      "100%|██████████████████████████████████████████████████████████████████████████████| 1500/1500 [00:27<00:00, 54.49it/s]\n"
     ]
    },
    {
     "name": "stdout",
     "output_type": "stream",
     "text": [
      "predicting Snapshot 4\n"
     ]
    },
    {
     "name": "stderr",
     "output_type": "stream",
     "text": [
      "100%|██████████████████████████████████████████████████████████████████████████████| 1500/1500 [00:27<00:00, 54.20it/s]\n"
     ]
    },
    {
     "name": "stdout",
     "output_type": "stream",
     "text": [
      "predicting Snapshot 5\n"
     ]
    },
    {
     "name": "stderr",
     "output_type": "stream",
     "text": [
      "100%|██████████████████████████████████████████████████████████████████████████████| 1500/1500 [00:27<00:00, 54.06it/s]\n"
     ]
    }
   ],
   "source": [
    "for step in range(1, 6):\n",
    "    print('predicting Snapshot', step)\n",
    "    pred_null = []\n",
    "    \n",
    "    # 打包数据集\n",
    "    test_data = SaltDataset(image_test, mode='test', fine_size=fine_size, pad_left=pad_left, pad_right=pad_right)\n",
    "    test_loader = DataLoader(test_data, shuffle=False, batch_size=batch_size)\n",
    "    \n",
    "    # 进行预测\n",
    "    salt.eval()\n",
    "    for images in tqdm(test_loader, total=len(test_loader)):\n",
    "        images = images.to(device)\n",
    "        pred = salt(images)\n",
    "        pred = torch.sigmoid(pred).squeeze(1).cpu().detach().numpy()\n",
    "        pred = pred[:, pad_left:pad_left+fine_size, pad_left:pad_left + fine_size]\n",
    "        pred_null.append(pred)\n",
    "    \n",
    "    idx = 0\n",
    "    for i in range(len(pred_null)):\n",
    "        for j in range(batch_size):\n",
    "            overall_pred_101[idx] += cv2.resize(pred_null[i][j], dsize=(101, 101))\n",
    "            idx += 1"
   ]
  },
  {
   "cell_type": "markdown",
   "id": "0cd9c013",
   "metadata": {},
   "source": [
    "\n",
    "# ----------------------------------------------7.生成提交文件----------------------------------------"
   ]
  },
  {
   "cell_type": "code",
   "execution_count": 146,
   "id": "88f20ac8",
   "metadata": {},
   "outputs": [],
   "source": [
    "submission = pd.DataFrame({'id':test_id, 'rle_mask':list(overall_pred_101)})\n",
    "submission['rle_mask'] = submission['rle_mask'].map(lambda x: rle_encode(x>5*0.5))\n",
    "submission.set_index('id', inplace=True)\n",
    "\n",
    "sample_submission = pd.read_csv('data/sample_submission.csv')\n",
    "sample_submission.set_index('id', inplace=True)\n",
    "submission = submission.reindex(sample_submission.index)\n",
    "submission.reset_index(inplace=True)\n",
    "submission.to_csv('submission01.csv', index=False)"
   ]
  },
  {
   "cell_type": "code",
   "execution_count": 147,
   "id": "25457788",
   "metadata": {},
   "outputs": [],
   "source": [
    "# 分数0.73148  最高的分数0.89646"
   ]
  },
  {
   "cell_type": "code",
   "execution_count": null,
   "id": "27582f2e",
   "metadata": {},
   "outputs": [],
   "source": []
  }
 ],
 "metadata": {
  "kernelspec": {
   "display_name": "machine_zzh",
   "language": "python",
   "name": "machine_zzh"
  },
  "language_info": {
   "codemirror_mode": {
    "name": "ipython",
    "version": 3
   },
   "file_extension": ".py",
   "mimetype": "text/x-python",
   "name": "python",
   "nbconvert_exporter": "python",
   "pygments_lexer": "ipython3",
   "version": "3.10.11"
  }
 },
 "nbformat": 4,
 "nbformat_minor": 5
}
